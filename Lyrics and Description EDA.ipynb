{
 "cells": [
  {
   "cell_type": "markdown",
   "id": "7f79baf9",
   "metadata": {},
   "source": [
    "# ADS 509 Assignment 2.1: Tokenization, Normalization, Descriptive Statistics \n",
    "\n",
    "This notebook holds Assignment 2.1 for Module 2 in ADS 509, Applied Text Mining. Work through this notebook, writing code and answering questions where required. \n",
    "\n",
    "In the previous assignment you pulled lyrics data on two artists. In this assignment we explore this data set and a pull from the now-defunct Twitter API for the artists Cher and Robyn.  If, for some reason, you did not complete that previous assignment, data to use for this assignment can be found in the assignment materials section of Canvas. \n",
    "\n",
    "This assignment asks you to write a short function to calculate some descriptive statistics on a piece of text. Then you are asked to find some interesting and unique statistics on your corpora. \n"
   ]
  },
  {
   "cell_type": "markdown",
   "id": "aae8e2e1",
   "metadata": {},
   "source": [
    "## General Assignment Instructions\n",
    "\n",
    "These instructions are included in every assignment, to remind you of the coding standards for the class. Feel free to delete this cell after reading it. \n",
    "\n",
    "One sign of mature code is conforming to a style guide. We recommend the [Google Python Style Guide](https://google.github.io/styleguide/pyguide.html). If you use a different style guide, please include a cell with a link. \n",
    "\n",
    "Your code should be relatively easy-to-read, sensibly commented, and clean. Writing code is a messy process, so please be sure to edit your final submission. Remove any cells that are not needed or parts of cells that contain unnecessary code. Remove inessential `import` statements and make sure that all such statements are moved into the designated cell. \n",
    "\n",
    "Make use of non-code cells for written commentary. These cells should be grammatical and clearly written. In some of these cells you will have questions to answer. The questions will be marked by a \"Q:\" and will have a corresponding \"A:\" spot for you. *Make sure to answer every question marked with a `Q:` for full credit.* \n"
   ]
  },
  {
   "cell_type": "code",
   "execution_count": 5,
   "id": "ffaf6153",
   "metadata": {},
   "outputs": [
    {
     "name": "stderr",
     "output_type": "stream",
     "text": [
      "[nltk_data] Downloading package stopwords to\n",
      "[nltk_data]     /Users/mammajamma/nltk_data...\n",
      "[nltk_data]   Unzipping corpora/stopwords.zip.\n"
     ]
    },
    {
     "data": {
      "text/plain": [
       "True"
      ]
     },
     "execution_count": 5,
     "metadata": {},
     "output_type": "execute_result"
    }
   ],
   "source": [
    "import nltk\n",
    "nltk.download('stopwords')"
   ]
  },
  {
   "cell_type": "code",
   "execution_count": 6,
   "id": "e2d096b7",
   "metadata": {},
   "outputs": [],
   "source": [
    "import os\n",
    "import re\n",
    "import emoji\n",
    "import pandas as pd\n",
    "import numpy as np\n",
    "\n",
    "from collections import Counter, defaultdict\n",
    "from nltk.corpus import stopwords\n",
    "from string import punctuation\n",
    "\n",
    "sw = stopwords.words(\"english\")"
   ]
  },
  {
   "cell_type": "code",
   "execution_count": 21,
   "id": "923b5a86",
   "metadata": {},
   "outputs": [],
   "source": [
    "# change `data_location` to the location of the folder on your machine.\n",
    "#data_location = \"/users/chandler/dropbox/teaching/repos/ads-tm-api-scrape/\"\n",
    "data_location = \"/Users/mammajamma/Projects/ADS509assgn2/M1 Results/\"\n",
    "\n",
    "# These subfolders should still work if you correctly stored the \n",
    "# data from the Module 1 assignment\n",
    "twitter_folder = \"twitter/\"\n",
    "lyrics_folder = \"lyrics/\""
   ]
  },
  {
   "cell_type": "code",
   "execution_count": 29,
   "id": "06522af9",
   "metadata": {},
   "outputs": [],
   "source": [
    "from collections import Counter\n",
    "\n",
    "def descriptive_stats(tokens, num_tokens=5, verbose=True):\n",
    "    \"\"\"\n",
    "    Given a list of tokens, \n",
    "    - print number of tokens\n",
    "    - number of unique tokens\n",
    "    - number of characters\n",
    "    - lexical diversity (https://en.wikipedia.org/wiki/Lexical_diversity)\n",
    "    - and num_tokens most common tokens.\n",
    "    \n",
    "    Return a list with the number of tokens, number of unique tokens, \n",
    "    lexical diversity, and number of characters. \n",
    "    \"\"\"\n",
    "    # Fill in the correct values here\\\n",
    "    #tokens\n",
    "    num_tokens_total = len(tokens)\n",
    "    #unique tokens                        \n",
    "    num_unique_tokens = len(set(tokens)) \n",
    "    #num of characters                  \n",
    "    num_characters = sum(len(t) for t in tokens)           \n",
    "    lexical_diversity = (num_unique_tokens / num_tokens_total \n",
    "                         if num_tokens_total > 0 else 0)   # avoid division by 0\n",
    "    \n",
    "    if verbose:        \n",
    "        print(f\"There are {num_tokens_total} tokens in the data.\")\n",
    "        print(f\"There are {num_unique_tokens} unique tokens in the data.\")\n",
    "        print(f\"There are {num_characters} characters in the data.\")\n",
    "        print(f\"The lexical diversity is {lexical_diversity:.3f} in the data.\")\n",
    "    \n",
    "        # print the most common tokens\n",
    "        common = Counter(tokens).most_common(num_tokens)\n",
    "        print(f\"\\nTop {num_tokens} tokens:\")\n",
    "        for token, count in common:\n",
    "            print(f\"{token}: {count}\")\n",
    "    \n",
    "    return [num_tokens_total, num_unique_tokens, lexical_diversity, num_characters]\n"
   ]
  },
  {
   "cell_type": "code",
   "execution_count": 30,
   "id": "59dcf058",
   "metadata": {},
   "outputs": [
    {
     "name": "stdout",
     "output_type": "stream",
     "text": [
      "There are 13 tokens in the data.\n",
      "There are 9 unique tokens in the data.\n",
      "There are 55 characters in the data.\n",
      "The lexical diversity is 0.692 in the data.\n",
      "\n",
      "Top 5 tokens:\n",
      "text: 3\n",
      "here: 2\n",
      "example: 2\n",
      "is: 1\n",
      "some: 1\n"
     ]
    }
   ],
   "source": [
    "text = \"\"\"here is some example text with other example text here in this text\"\"\".split()\n",
    "assert(descriptive_stats(text, verbose=True)[0] == 13)\n",
    "assert(descriptive_stats(text, verbose=False)[1] == 9)\n",
    "assert(abs(descriptive_stats(text, verbose=False)[2] - 0.69) < 0.02)\n",
    "assert(descriptive_stats(text, verbose=False)[3] == 55)\n"
   ]
  },
  {
   "cell_type": "markdown",
   "id": "d2e7e1a2",
   "metadata": {},
   "source": [
    "Q: Why is it beneficial to use assertion statements in your code? \n",
    "\n",
    "A: Assertion statements make sure you are on the right track with your code.  If you are counting words for example and you run a chunk of code, an assertion statement can help to make sure the code that you ran is true.  If you are trying to count the number of sentences in a text file, how do you know the returned number is true?  The code you ran could have been incorrect or had an error and if you just take it blindly, you don't know if the mistake is made and you could continue with your code with false information.  An assertion statement in this example would be checking to see maybe what the first sentence is based on your return and the last, this way you can be sure all sentences are accounted for.  Essentially like a version of unit testing kind of, it makes sure that your code is not buggy. "
   ]
  },
  {
   "cell_type": "markdown",
   "id": "9d3bf93e",
   "metadata": {},
   "source": [
    "## Data Input\n",
    "\n",
    "Now read in each of the corpora. For the lyrics data, it may be convenient to store the entire contents of the file to make it easier to inspect the titles individually, as you'll do in the last part of the assignment. In the solution, I stored the lyrics data in a dictionary with two dimensions of keys: artist and song. The value was the file contents. A data frame would work equally well. \n",
    "\n",
    "For the Twitter data, we only need the description field for this assignment. Feel free all the descriptions read it into a data structure. In the solution, I stored the descriptions as a dictionary of lists, with the key being the artist. \n",
    "\n",
    "\n"
   ]
  },
  {
   "cell_type": "code",
   "execution_count": 31,
   "id": "37d70801",
   "metadata": {},
   "outputs": [],
   "source": [
    "# Read in the lyrics data\n",
    "lyrics_data = {}\n",
    "\n",
    "artists_path = os.path.join(data_location, lyrics_folder)\n",
    "\n",
    "for artist in os.listdir(artists_path):\n",
    "    artist_folder = os.path.join(artists_path, artist)\n",
    "\n",
    "    if os.path.isdir(artist_folder):\n",
    "        lyrics_data[artist] = {}\n",
    "\n",
    "        for file in os.listdir(artist_folder):\n",
    "            if file.endswith(\".txt\"):\n",
    "                song_name = file.replace(\".txt\", \"\").replace(f\"{artist}_\", \"\")\n",
    "\n",
    "                with open(os.path.join(artist_folder, file), \"r\") as f:\n",
    "                    lyrics_data[artist][song_name] = f.read()"
   ]
  },
  {
   "cell_type": "code",
   "execution_count": 32,
   "id": "debcac5a",
   "metadata": {},
   "outputs": [],
   "source": [
    "twitter_data = {}\n",
    "\n",
    "twitter_path = os.path.join(data_location, twitter_folder)\n",
    "\n",
    "for file in os.listdir(twitter_path):\n",
    "    if file.endswith(\"_followers_data.txt\"):                 \n",
    "        artist = file.replace(\"_followers_data.txt\", \"\")\n",
    "        descriptions = []\n",
    "\n",
    "        with open(os.path.join(twitter_path, file), \"r\") as f:\n",
    "            header = f.readline().strip().split(\"\\t\")        \n",
    "            if \"description\" in header:                      \n",
    "                desc_index = header.index(\"description\")\n",
    "                for line in f:\n",
    "                    parts = line.strip().split(\"\\t\")\n",
    "                    if len(parts) > desc_index:              \n",
    "                        descriptions.append(parts[desc_index])\n",
    "\n",
    "        twitter_data[artist] = descriptions"
   ]
  },
  {
   "cell_type": "markdown",
   "id": "6a5f3b12",
   "metadata": {},
   "source": [
    "## Data Cleaning\n",
    "\n",
    "Now clean and tokenize your data. Remove punctuation chacters (available in the `punctuation` object in the `string` library), split on whitespace, fold to lowercase, and remove stopwords. Store your cleaned data, which must be accessible as an interable for `descriptive_stats`, in new objects or in new columns in your data frame. \n",
    "\n"
   ]
  },
  {
   "cell_type": "code",
   "execution_count": 33,
   "id": "71c73d86",
   "metadata": {},
   "outputs": [],
   "source": [
    "punctuation = set(punctuation) # speeds up comparison"
   ]
  },
  {
   "cell_type": "code",
   "execution_count": 34,
   "id": "b327033a",
   "metadata": {},
   "outputs": [],
   "source": [
    "# create your clean twitter data here\n",
    "\n",
    "clean_twitter_data = {}\n",
    "\n",
    "for artist, description in twitter_data.items():\n",
    "    tokens = []\n",
    "\n",
    "    for desc in descriptions: \n",
    "        words = desc.lower().split()\n",
    "        words = [w.strip(\"\".join(punctuation)) for w in words]\n",
    "        words = [w for w in words if w not in sw and w != \"\"]\n",
    "        tokens.extend(words)\n",
    "    clean_twitter_data[artist] = tokens"
   ]
  },
  {
   "cell_type": "code",
   "execution_count": 35,
   "id": "e0f22e10",
   "metadata": {},
   "outputs": [],
   "source": [
    "# create your clean lyrics data here\n",
    "clean_lyrics_data = {}\n",
    "\n",
    "for artist, songs in lyrics_data.items():\n",
    "    tokens = []\n",
    "    for song, text in songs.items():\n",
    "        words = text.lower().split()  # lowercase + split\n",
    "        words = [w.strip(\"\".join(punctuation)) for w in words]\n",
    "        words = [w for w in words if w not in sw and w != \"\"]\n",
    "        tokens.extend(words)\n",
    "    clean_lyrics_data[artist] = tokens"
   ]
  },
  {
   "cell_type": "markdown",
   "id": "f2dd0179",
   "metadata": {},
   "source": [
    "## Basic Descriptive Statistics\n",
    "\n",
    "Call your `descriptive_stats` function on both your lyrics data and your twitter data and for both artists (four total calls). "
   ]
  },
  {
   "cell_type": "code",
   "execution_count": 38,
   "id": "f0bbedd9",
   "metadata": {},
   "outputs": [
    {
     "name": "stdout",
     "output_type": "stream",
     "text": [
      "Twitter - Cher\n",
      "There are 1482635 tokens in the data.\n",
      "There are 257718 unique tokens in the data.\n",
      "There are 9258438 characters in the data.\n",
      "The lexical diversity is 0.174 in the data.\n",
      "\n",
      "Top 5 tokens:\n",
      "music: 15146\n",
      "love: 11663\n",
      "och: 7922\n",
      "life: 7381\n",
      "de: 6382\n",
      "\n",
      "Twitter - Robyn\n",
      "There are 1482635 tokens in the data.\n",
      "There are 257718 unique tokens in the data.\n",
      "There are 9258438 characters in the data.\n",
      "The lexical diversity is 0.174 in the data.\n",
      "\n",
      "Top 5 tokens:\n",
      "music: 15146\n",
      "love: 11663\n",
      "och: 7922\n",
      "life: 7381\n",
      "de: 6382\n",
      "\n",
      "Lyrics - Cher\n",
      "There are 33467 tokens in the data.\n",
      "There are 3712 unique tokens in the data.\n",
      "There are 164699 characters in the data.\n",
      "The lexical diversity is 0.111 in the data.\n",
      "\n",
      "Top 5 tokens:\n",
      "love: 1004\n",
      "know: 486\n",
      "time: 319\n",
      "baby: 319\n",
      "see: 308\n",
      "\n",
      "Lyrics - Robyn\n",
      "There are 14127 tokens in the data.\n",
      "There are 2141 unique tokens in the data.\n",
      "There are 70442 characters in the data.\n",
      "The lexical diversity is 0.152 in the data.\n",
      "\n",
      "Top 5 tokens:\n",
      "know: 308\n",
      "love: 275\n",
      "got: 251\n",
      "like: 232\n",
      "baby: 222\n"
     ]
    },
    {
     "data": {
      "text/plain": [
       "[14127, 2141, 0.1515537622991435, 70442]"
      ]
     },
     "execution_count": 38,
     "metadata": {},
     "output_type": "execute_result"
    }
   ],
   "source": [
    "# calls to descriptive_stats here\n",
    "\n",
    "# Twitter\n",
    "print(\"Twitter - Cher\")\n",
    "descriptive_stats(clean_twitter_data[\"cher\"])\n",
    "\n",
    "print(\"\\nTwitter - Robyn\")\n",
    "descriptive_stats(clean_twitter_data[\"robynkonichiwa\"])\n",
    "\n",
    "# Lyrics\n",
    "print(\"\\nLyrics - Cher\")\n",
    "descriptive_stats(clean_lyrics_data[\"cher\"])\n",
    "\n",
    "print(\"\\nLyrics - Robyn\")\n",
    "descriptive_stats(clean_lyrics_data[\"robyn\"])\n"
   ]
  },
  {
   "cell_type": "markdown",
   "id": "46294409",
   "metadata": {},
   "source": [
    "Q: How do you think the \"top 5 words\" would be different if we left stopwords in the data? \n",
    "\n",
    "A: They would probably all be stop words because they would appear most frequently. \n",
    "\n",
    "---\n",
    "\n",
    "Q: What were your prior beliefs about the lexical diversity between the artists? Does the difference (or lack thereof) in lexical diversity between the artists conform to your prior beliefs? \n",
    "\n",
    "A: I honestly don't know much about either of these artists except that Cher I know to be mainstream.  I expect for mainstream pop singers like this that they use more generic verbiage a lot of love, babe, kiss type words so I would expect a low lexical diversity since I would have pressumed the same words were used often and there would not be as much diversity but it looks like they are both about the same, so I assume now with the data that we have that Robyn is also a more mainstream, similar type of artist as Cher.\n"
   ]
  },
  {
   "cell_type": "markdown",
   "id": "4d4e1ac1",
   "metadata": {},
   "source": [
    "\n",
    "## Specialty Statistics\n",
    "\n",
    "The descriptive statistics we have calculated are quite generic. You will now calculate a handful of statistics tailored to these data.\n",
    "\n",
    "1. Ten most common emojis by artist in the twitter descriptions.\n",
    "1. Ten most common hashtags by artist in the twitter descriptions.\n",
    "1. Five most common words in song titles by artist. \n",
    "1. For each artist, a histogram of song lengths (in terms of number of tokens) \n",
    "\n",
    "We can use the `emoji` library to help us identify emojis and you have been given a function to help you.\n"
   ]
  },
  {
   "cell_type": "code",
   "execution_count": 39,
   "id": "753a5a3e",
   "metadata": {},
   "outputs": [],
   "source": [
    "assert(emoji.is_emoji(\"❤️\"))\n",
    "assert(not emoji.is_emoji(\":-)\"))"
   ]
  },
  {
   "cell_type": "markdown",
   "id": "986fc4c0",
   "metadata": {},
   "source": [
    "### Emojis 😁\n",
    "\n",
    "What are the ten most common emojis by artist in the twitter descriptions? \n"
   ]
  },
  {
   "cell_type": "code",
   "execution_count": 48,
   "id": "269cd433",
   "metadata": {},
   "outputs": [
    {
     "name": "stdout",
     "output_type": "stream",
     "text": [
      "Top 10 emojis for cher:\n",
      "❤ : 4783\n",
      "🌈 : 4685\n",
      "🏳 : 3528\n",
      "♥ : 3103\n",
      "✨ : 2223\n",
      "🏻 : 1495\n",
      "✌ : 1189\n",
      "🏼 : 1139\n",
      "♀ : 836\n",
      "💙 : 809\n",
      "Top 10 emojis for robynkonichiwa:\n",
      "❤ : 4783\n",
      "🌈 : 4685\n",
      "🏳 : 3528\n",
      "♥ : 3103\n",
      "✨ : 2223\n",
      "🏻 : 1495\n",
      "✌ : 1189\n",
      "🏼 : 1139\n",
      "♀ : 836\n",
      "💙 : 809\n"
     ]
    }
   ],
   "source": [
    "# Your code here\n",
    "for artist, descriptions in clean_twitter_data.items():\n",
    "    all_tokens = [token for desc in descriptions for token in desc]  # flatten\n",
    "    emojis = [t for t in all_tokens if emoji.is_emoji(t)]            # keep only emojis\n",
    "    \n",
    "    counts = Counter(emojis).most_common(10)                         # top 10\n",
    "    print(f\"Top 10 emojis for {artist}:\")\n",
    "    for e, c in counts:\n",
    "        print(e, \":\", c)\n"
   ]
  },
  {
   "cell_type": "markdown",
   "id": "bab9b770",
   "metadata": {},
   "source": [
    "### Hashtags\n",
    "\n",
    "What are the ten most common hashtags by artist in the twitter descriptions? \n"
   ]
  },
  {
   "cell_type": "code",
   "execution_count": 52,
   "id": "07c396f1",
   "metadata": {},
   "outputs": [
    {
     "name": "stdout",
     "output_type": "stream",
     "text": [
      "Top 10 hashtags for cher:\n",
      "#BLM : 7919\n",
      "#Resist : 5007\n",
      "#BlackLivesMatter : 4226\n",
      "#resist : 3133\n",
      "#FBR : 2767\n",
      "#blacklivesmatter : 2464\n",
      "#TheResistance : 2459\n",
      "#1 : 2226\n",
      "# : 1965\n",
      "#Resistance : 1518\n",
      "\n",
      "Top 10 hashtags for robynkonichiwa:\n",
      "#BlackLivesMatter : 311\n",
      "#BLM : 273\n",
      "#blacklivesmatter : 200\n",
      "#1 : 187\n",
      "#music : 150\n",
      "# : 150\n",
      "#Music : 93\n",
      "#EDM : 79\n",
      "#blm : 51\n",
      "#TeamFollowBack : 51\n",
      "\n"
     ]
    }
   ],
   "source": [
    "#your code\n",
    "for artist, descriptions in twitter_data.items():\n",
    "\n",
    "    all_tokens = [word for desc in descriptions for word in desc.split()]\n",
    "    \n",
    "    hashtags = [token for token in all_tokens if token.startswith(\"#\")]\n",
    "    \n",
    "    counts = Counter(hashtags).most_common(10)\n",
    "\n",
    "    print(f\"Top 10 hashtags for {artist}:\")\n",
    "    if counts:\n",
    "        for h, c in counts:\n",
    "            print(h, \":\", c)\n",
    "    else:\n",
    "        print(\"No hashtags found\")\n",
    "    print()\n",
    "\n"
   ]
  },
  {
   "cell_type": "markdown",
   "id": "d10f21d5",
   "metadata": {},
   "source": [
    "### Song Titles\n",
    "\n",
    "What are the five most common words in song titles by artist? The song titles should be on the first line of the lyrics pages, so if you have kept the raw file contents around, you will not need to re-read the data.\n"
   ]
  },
  {
   "cell_type": "code",
   "execution_count": 60,
   "id": "bb69b36b",
   "metadata": {},
   "outputs": [
    {
     "name": "stdout",
     "output_type": "stream",
     "text": [
      "Top 5 words in song titles for robyn:\n",
      "love : 6\n",
      "u : 4\n",
      "hang : 3\n",
      "tell : 3\n",
      "girl : 3\n",
      "\n",
      "Top 5 words in song titles for cher:\n",
      "love : 38\n",
      "man : 12\n",
      "song : 11\n",
      "come : 7\n",
      "one : 7\n",
      "\n"
     ]
    }
   ],
   "source": [
    "# Your code here\n",
    "#need to keep punctuation as a string for this block:\n",
    "from string import punctuation\n",
    "\n",
    "punct_set = set(punctuation)\n",
    "\n",
    "punct_string = punctuation\n",
    "\n",
    "\n",
    "for artist, songs in lyrics_data.items():\n",
    "    words = []\n",
    "    \n",
    "    for song_name, content in songs.items():\n",
    "        title = content.splitlines()[0] if content else \"\"\n",
    "        words.extend(title.lower().split())\n",
    "    \n",
    "    words = [w.strip(punct_string) for w in words if w.strip(punct_string)]\n",
    "    \n",
    "    # remove stopwords\n",
    "    words = [w for w in words if w not in sw]\n",
    "    \n",
    "    top5 = Counter(words).most_common(5)\n",
    "    print(f\"Top 5 words in song titles for {artist}:\")\n",
    "    for word, c in top5:\n",
    "        print(word, \":\", c)\n",
    "    print()\n"
   ]
  },
  {
   "cell_type": "markdown",
   "id": "5dd4fd71",
   "metadata": {},
   "source": [
    "### Song Lengths\n",
    "\n",
    "For each artist, a histogram of song lengths (in terms of number of tokens). If you put the song lengths in a data frame with an artist column, matplotlib will make the plotting quite easy. An example is given to help you out. \n"
   ]
  },
  {
   "cell_type": "code",
   "execution_count": 61,
   "id": "805a1e52",
   "metadata": {},
   "outputs": [
    {
     "data": {
      "text/plain": [
       "artist\n",
       "Artist 1    Axes(0.125,0.11;0.775x0.77)\n",
       "Artist 2    Axes(0.125,0.11;0.775x0.77)\n",
       "Name: length, dtype: object"
      ]
     },
     "execution_count": 61,
     "metadata": {},
     "output_type": "execute_result"
    },
    {
     "data": {
      "image/png": "[encoded data removed]",
      "text/plain": [
       "<Figure size 640x480 with 1 Axes>"
      ]
     },
     "metadata": {},
     "output_type": "display_data"
    }
   ],
   "source": [
    "num_replicates = 1000\n",
    "\n",
    "df = pd.DataFrame({\n",
    "    \"artist\" : ['Artist 1'] * num_replicates + ['Artist 2']*num_replicates,\n",
    "    \"length\" : np.concatenate((np.random.poisson(125,num_replicates),np.random.poisson(150,num_replicates)))\n",
    "})\n",
    "\n",
    "df.groupby('artist')['length'].plot(kind=\"hist\",density=True,alpha=0.5,legend=True)"
   ]
  },
  {
   "cell_type": "markdown",
   "id": "8fde9ebb",
   "metadata": {},
   "source": [
    "Since the lyrics may be stored with carriage returns or tabs, it may be useful to have a function that can collapse whitespace, using regular expressions, and be used for splitting. \n",
    "\n",
    "Q: What does the regular expression `'\\s+'` match on? \n",
    "\n",
    "A: One or more white space characters. This could be helpful if there are more instances of white space rather than just individual spaces, which is what the split() function does. Split() without any character added splits on individual white spaces, if we used regex it will make sure it splits on any whitespace combinations not just individual spaces\n"
   ]
  },
  {
   "cell_type": "code",
   "execution_count": 62,
   "id": "f0e34516",
   "metadata": {},
   "outputs": [],
   "source": [
    "collapse_whitespace = re.compile(r'\\s+')\n",
    "\n",
    "def tokenize_lyrics(lyric) : \n",
    "    \"\"\"strip and split on whitespace\"\"\"\n",
    "    return([item.lower() for item in collapse_whitespace.split(lyric)])"
   ]
  },
  {
   "cell_type": "code",
   "execution_count": 64,
   "id": "2294c440",
   "metadata": {},
   "outputs": [
    {
     "data": {
      "image/png": "[encoded data removed]",
      "text/plain": [
       "<Figure size 1000x600 with 1 Axes>"
      ]
     },
     "metadata": {},
     "output_type": "display_data"
    }
   ],
   "source": [
    "# Your lyric length comparison chart here. \n",
    "\n",
    "import matplotlib.pyplot as plt\n",
    "\n",
    "song_lengths = {}\n",
    "\n",
    "for artist, songs in lyrics_data.items():\n",
    "    lengths = []\n",
    "    for song_name, content in songs.items():\n",
    "        tokens = tokenize_lyrics(content)\n",
    "        lengths.append(len(tokens))\n",
    "    song_lengths[artist] = lengths\n",
    "\n",
    "plt.figure(figsize=(10, 6))\n",
    "\n",
    "for artist, lengths in song_lengths.items():\n",
    "    plt.hist(lengths, bins=20, alpha=0.5, label=artist)\n",
    "\n",
    "plt.xlabel(\"Song length (tokens)\")\n",
    "plt.ylabel(\"Number of songs\")\n",
    "plt.title(\"Distribution of Song Lengths by Artist\")\n",
    "plt.legend()\n",
    "plt.show()\n"
   ]
  }
 ],
 "metadata": {
  "kernelspec": {
   "display_name": ".venv",
   "language": "python",
   "name": "python3"
  },
  "language_info": {
   "codemirror_mode": {
    "name": "ipython",
    "version": 3
   },
   "file_extension": ".py",
   "mimetype": "text/x-python",
   "name": "python",
   "nbconvert_exporter": "python",
   "pygments_lexer": "ipython3",
   "version": "3.9.6"
  }
 },
 "nbformat": 4,
 "nbformat_minor": 5
}
